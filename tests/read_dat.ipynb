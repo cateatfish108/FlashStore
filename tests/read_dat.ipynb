{
 "cells": [
  {
   "cell_type": "code",
   "execution_count": null,
   "metadata": {},
   "outputs": [],
   "source": [
    "import struct\n",
    "\n",
    "# 打开二进制文件\n",
    "with open(\"mmap/shm.flash_store.1.journal\", \"rb\") as f:\n",
    "    # hex_data = \" \".join(f\"{byte:02x}\" for byte in f.read(16))\n",
    "    # print(hex_data)\n",
    "    # f.seek(137,0)\n",
    "    pagehead = f.read(137)\n",
    "    parsed_data = struct.unpack('=b30sHqqiih3h9q', pagehead)\n",
    "    print(parsed_data)\n",
    "    # 解码 journal_name 字段\n",
    "    journal_name = parsed_data[1].decode('utf-8').rstrip('\\x00')\n",
    "\n",
    "    # 打印解析结果\n",
    "    print(\"status:\", parsed_data[0])\n",
    "    print(\"journal_name:\", journal_name)\n",
    "    print(\"page_num:\", parsed_data[2])\n",
    "    print(\"start_nano:\", parsed_data[3])\n",
    "    print(\"close_nano:\", parsed_data[4])\n",
    "    print(\"frame_num:\", parsed_data[5])\n",
    "    print(\"last_pos:\", parsed_data[6])\n",
    "    print(\"frame_version:\", parsed_data[7])\n",
    "    print(\"reserve_short:\", parsed_data[8:11])\n",
    "    print(\"reserve_long:\", parsed_data[11:])\n",
    "    \n",
    "    frameheader = f.read(20)\n",
    "    parsed_data = struct.unpack('=bqiIhb', frameheader)\n",
    "    print(parsed_data)\n",
    "    # # 循环读取并解析数据\n",
    "    # while True:\n",
    "    #     # 偏移指定字节数\n",
    "    #     f.seek(20,1)  # 从当前位置向后偏移 2 个字节\n",
    "    #     # 读取数据\n",
    "    #     data = f.read(40)  # 读取 4 个字节的数据\n",
    "    #     hex_data = \" \".join(f\"{byte:02x}\" for byte in data)\n",
    "    #     print(hex_data)\n",
    "    #     # print(data)\n",
    "    #     # 判断是否已经读到文件末尾\n",
    "    #     if not data:\n",
    "    #         break\n",
    "    #     # 解析数据\n",
    "    #     parsed_data = struct.unpack('ddddq', data)\n",
    "    #     # 打印解析结果\n",
    "    #     print(\"解析结果:\", parsed_data)\n",
    "    #     # break\n"
   ]
  }
 ],
 "metadata": {
  "kernelspec": {
   "display_name": "base",
   "language": "python",
   "name": "python3"
  },
  "language_info": {
   "codemirror_mode": {
    "name": "ipython",
    "version": 3
   },
   "file_extension": ".py",
   "mimetype": "text/x-python",
   "name": "python",
   "nbconvert_exporter": "python",
   "pygments_lexer": "ipython3",
   "version": "3.9.7"
  }
 },
 "nbformat": 4,
 "nbformat_minor": 2
}
